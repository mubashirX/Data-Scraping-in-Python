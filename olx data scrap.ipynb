{
 "cells": [
  {
   "cell_type": "markdown",
   "metadata": {},
   "source": [
    "### Imports"
   ]
  },
  {
   "cell_type": "code",
   "execution_count": 22,
   "metadata": {},
   "outputs": [],
   "source": [
    "from bs4 import BeautifulSoup\n",
    "import requests\n",
    "import pandas as pd "
   ]
  },
  {
   "cell_type": "markdown",
   "metadata": {},
   "source": [
    "### HTTP Request"
   ]
  },
  {
   "cell_type": "markdown",
   "metadata": {},
   "source": [
    "#### store website in variable"
   ]
  },
  {
   "cell_type": "code",
   "execution_count": 23,
   "metadata": {},
   "outputs": [],
   "source": [
    "website = 'https://www.olx.com.pk/items/q-laptop-core-i5'"
   ]
  },
  {
   "cell_type": "markdown",
   "metadata": {},
   "source": [
    "#### Get Request"
   ]
  },
  {
   "cell_type": "code",
   "execution_count": 24,
   "metadata": {},
   "outputs": [],
   "source": [
    "response = requests.get(website)"
   ]
  },
  {
   "cell_type": "markdown",
   "metadata": {},
   "source": [
    "#### Status Code"
   ]
  },
  {
   "cell_type": "code",
   "execution_count": 25,
   "metadata": {},
   "outputs": [
    {
     "data": {
      "text/plain": [
       "200"
      ]
     },
     "execution_count": 25,
     "metadata": {},
     "output_type": "execute_result"
    }
   ],
   "source": [
    "response.status_code"
   ]
  },
  {
   "cell_type": "markdown",
   "metadata": {},
   "source": [
    "### Soup Object"
   ]
  },
  {
   "cell_type": "code",
   "execution_count": 26,
   "metadata": {},
   "outputs": [],
   "source": [
    "soup = BeautifulSoup(response.content, 'html.parser')"
   ]
  },
  {
   "cell_type": "markdown",
   "metadata": {},
   "source": [
    "### Results"
   ]
  },
  {
   "cell_type": "code",
   "execution_count": 27,
   "metadata": {},
   "outputs": [],
   "source": [
    "results = soup.find_all('article', {'class' : '_7e3920c1'})"
   ]
  },
  {
   "cell_type": "code",
   "execution_count": 28,
   "metadata": {},
   "outputs": [
    {
     "data": {
      "text/plain": [
       "20"
      ]
     },
     "execution_count": 28,
     "metadata": {},
     "output_type": "execute_result"
    }
   ],
   "source": [
    "len(results)"
   ]
  },
  {
   "cell_type": "markdown",
   "metadata": {},
   "source": [
    "### Target necessary data"
   ]
  },
  {
   "cell_type": "code",
   "execution_count": 17,
   "metadata": {},
   "outputs": [],
   "source": [
    "# Name\n",
    "# Mileage\n",
    "# Dealer Name\n",
    "# Rating\n",
    "# Rating Count\n",
    "# Price"
   ]
  },
  {
   "cell_type": "markdown",
   "metadata": {},
   "source": [
    "#### Name"
   ]
  },
  {
   "cell_type": "code",
   "execution_count": 29,
   "metadata": {},
   "outputs": [
    {
     "data": {
      "text/plain": [
       "'\\n\\n\\nFeatured'"
      ]
     },
     "execution_count": 29,
     "metadata": {},
     "output_type": "execute_result"
    }
   ],
   "source": [
    "results[0].find('div').get_text()"
   ]
  },
  {
   "cell_type": "markdown",
   "metadata": {},
   "source": [
    "####  Name"
   ]
  },
  {
   "cell_type": "code",
   "execution_count": 30,
   "metadata": {},
   "outputs": [
    {
     "data": {
      "text/plain": [
       "'Dell Latitude E7440  Laptop Core i5-4300 4GB 256SSD Fattani computers'"
      ]
     },
     "execution_count": 30,
     "metadata": {},
     "output_type": "execute_result"
    }
   ],
   "source": [
    "results[0].find('div', {'class':'a5112ca8 _5fdf4379'}).get_text().strip()"
   ]
  },
  {
   "cell_type": "markdown",
   "metadata": {},
   "source": [
    "#### Area,location ,etc\n"
   ]
  },
  {
   "cell_type": "code",
   "execution_count": 31,
   "metadata": {},
   "outputs": [
    {
     "data": {
      "text/plain": [
       "'Gulshan-e-Iqbal Town, Karachi•4 weeks ago'"
      ]
     },
     "execution_count": 31,
     "metadata": {},
     "output_type": "execute_result"
    }
   ],
   "source": [
    "results[0].find('div', {'class':'e48cb10f'}).get_text()"
   ]
  },
  {
   "cell_type": "markdown",
   "metadata": {},
   "source": [
    "#### Price"
   ]
  },
  {
   "cell_type": "code",
   "execution_count": 32,
   "metadata": {},
   "outputs": [
    {
     "data": {
      "text/plain": [
       "'Rs 33,000'"
      ]
     },
     "execution_count": 32,
     "metadata": {},
     "output_type": "execute_result"
    }
   ],
   "source": [
    "results[0].find('div', {'_1075545d _52497c97 _96d4439a'}).get_text()"
   ]
  },
  {
   "cell_type": "markdown",
   "metadata": {},
   "source": [
    "### Put everything together inside a For-Loop"
   ]
  },
  {
   "cell_type": "code",
   "execution_count": 33,
   "metadata": {},
   "outputs": [],
   "source": [
    "name = []\n",
    "area_loc_time = []\n",
    "price = []\n",
    "\n",
    "for result in results:\n",
    "    \n",
    "     # dealer_name\n",
    "    try:\n",
    "        area_loc_time.append(result.find('div', {'class':'e48cb10f'}).get_text().strip())\n",
    "    except:\n",
    "        area_loc_time.append('n/a')\n",
    "        \n",
    "    \n",
    "    # dealer_name\n",
    "    try:\n",
    "        name.append(result.find('div', {'class':'a5112ca8 _5fdf4379'}).get_text().strip())\n",
    "    except:\n",
    "        name.append('n/a')\n",
    "        \n",
    "    \n",
    "    #price \n",
    "    try:\n",
    "        price.append(result.find('div', {'class':'_1075545d _52497c97 _96d4439a'}).get_text())\n",
    "    except:\n",
    "        price.append('n/a')"
   ]
  },
  {
   "cell_type": "markdown",
   "metadata": {},
   "source": [
    "### Create Pandas Dataframe"
   ]
  },
  {
   "cell_type": "code",
   "execution_count": 46,
   "metadata": {},
   "outputs": [],
   "source": [
    "# dictionary\n",
    "laptops = pd.DataFrame({'Name': name,  'Location':area_loc_time, 'Price': price})"
   ]
  },
  {
   "cell_type": "code",
   "execution_count": 47,
   "metadata": {},
   "outputs": [
    {
     "data": {
      "text/html": [
       "<div>\n",
       "<style scoped>\n",
       "    .dataframe tbody tr th:only-of-type {\n",
       "        vertical-align: middle;\n",
       "    }\n",
       "\n",
       "    .dataframe tbody tr th {\n",
       "        vertical-align: top;\n",
       "    }\n",
       "\n",
       "    .dataframe thead th {\n",
       "        text-align: right;\n",
       "    }\n",
       "</style>\n",
       "<table border=\"1\" class=\"dataframe\">\n",
       "  <thead>\n",
       "    <tr style=\"text-align: right;\">\n",
       "      <th></th>\n",
       "      <th>Name</th>\n",
       "      <th>Location</th>\n",
       "      <th>Price</th>\n",
       "    </tr>\n",
       "  </thead>\n",
       "  <tbody>\n",
       "    <tr>\n",
       "      <th>0</th>\n",
       "      <td>Dell Core i5 6th Generation Laptop. . Better T...</td>\n",
       "      <td>Cantt, Lahore•2 weeks ago</td>\n",
       "      <td>Rs 38,000</td>\n",
       "    </tr>\n",
       "    <tr>\n",
       "      <th>1</th>\n",
       "      <td>hp ProBook core i5 7th generation</td>\n",
       "      <td>DHA Phase 8, Lahore•45 minutes ago</td>\n",
       "      <td>Rs 58,000</td>\n",
       "    </tr>\n",
       "    <tr>\n",
       "      <th>2</th>\n",
       "      <td>Hp core i5 2.40ghz 4gb ram 250gb HDD camera wifi</td>\n",
       "      <td>Ayub National Park, Rawalpindi•6 days ago</td>\n",
       "      <td>Rs 20,500</td>\n",
       "    </tr>\n",
       "    <tr>\n",
       "      <th>3</th>\n",
       "      <td>HP ELITBOOK 830 G5 CORE i5 8th gen 8GB 256GB S...</td>\n",
       "      <td>Saddar, Karachi•6 days ago</td>\n",
       "      <td>Rs 68,000</td>\n",
       "    </tr>\n",
       "    <tr>\n",
       "      <th>4</th>\n",
       "      <td>hp g4 840 core i5 7th gen 16gb/512ssd 10/10 fr...</td>\n",
       "      <td>Gujranwala, Punjab•1 week ago</td>\n",
       "      <td>Rs 62,500</td>\n",
       "    </tr>\n",
       "    <tr>\n",
       "      <th>...</th>\n",
       "      <td>...</td>\n",
       "      <td>...</td>\n",
       "      <td>...</td>\n",
       "    </tr>\n",
       "    <tr>\n",
       "      <th>475</th>\n",
       "      <td>HP Elitebook Core i5 8th Gen</td>\n",
       "      <td>Ghauri Town Phase 4A, Islamabad•2 days ago</td>\n",
       "      <td>Rs 90,000</td>\n",
       "    </tr>\n",
       "    <tr>\n",
       "      <th>476</th>\n",
       "      <td>Fujitsu Core I5 4th generation battery not wor...</td>\n",
       "      <td>Johar Town Phase 1, Lahore•2 days ago</td>\n",
       "      <td>Rs 13,500</td>\n",
       "    </tr>\n",
       "    <tr>\n",
       "      <th>477</th>\n",
       "      <td>Lenovo X1 Carbon 7th Gen Core i5 Ultra Slim Br...</td>\n",
       "      <td>Allama Iqbal Town, Lahore•2 days ago</td>\n",
       "      <td>Rs 64,500</td>\n",
       "    </tr>\n",
       "    <tr>\n",
       "      <th>478</th>\n",
       "      <td>Core i5 7th Generation</td>\n",
       "      <td>Korangi Road, Karachi•2 days ago</td>\n",
       "      <td>Rs 42,000</td>\n",
       "    </tr>\n",
       "    <tr>\n",
       "      <th>479</th>\n",
       "      <td>HP ELITE BOOK 8470 core i5</td>\n",
       "      <td>Library Chowk, Bahawalpur•2 days ago</td>\n",
       "      <td>Rs 30,000</td>\n",
       "    </tr>\n",
       "  </tbody>\n",
       "</table>\n",
       "<p>480 rows × 3 columns</p>\n",
       "</div>"
      ],
      "text/plain": [
       "                                                  Name  \\\n",
       "0    Dell Core i5 6th Generation Laptop. . Better T...   \n",
       "1                    hp ProBook core i5 7th generation   \n",
       "2     Hp core i5 2.40ghz 4gb ram 250gb HDD camera wifi   \n",
       "3    HP ELITBOOK 830 G5 CORE i5 8th gen 8GB 256GB S...   \n",
       "4    hp g4 840 core i5 7th gen 16gb/512ssd 10/10 fr...   \n",
       "..                                                 ...   \n",
       "475                       HP Elitebook Core i5 8th Gen   \n",
       "476  Fujitsu Core I5 4th generation battery not wor...   \n",
       "477  Lenovo X1 Carbon 7th Gen Core i5 Ultra Slim Br...   \n",
       "478                             Core i5 7th Generation   \n",
       "479                         HP ELITE BOOK 8470 core i5   \n",
       "\n",
       "                                       Location      Price  \n",
       "0                     Cantt, Lahore•2 weeks ago  Rs 38,000  \n",
       "1            DHA Phase 8, Lahore•45 minutes ago  Rs 58,000  \n",
       "2     Ayub National Park, Rawalpindi•6 days ago  Rs 20,500  \n",
       "3                    Saddar, Karachi•6 days ago  Rs 68,000  \n",
       "4                 Gujranwala, Punjab•1 week ago  Rs 62,500  \n",
       "..                                          ...        ...  \n",
       "475  Ghauri Town Phase 4A, Islamabad•2 days ago  Rs 90,000  \n",
       "476       Johar Town Phase 1, Lahore•2 days ago  Rs 13,500  \n",
       "477        Allama Iqbal Town, Lahore•2 days ago  Rs 64,500  \n",
       "478            Korangi Road, Karachi•2 days ago  Rs 42,000  \n",
       "479        Library Chowk, Bahawalpur•2 days ago  Rs 30,000  \n",
       "\n",
       "[480 rows x 3 columns]"
      ]
     },
     "execution_count": 47,
     "metadata": {},
     "output_type": "execute_result"
    }
   ],
   "source": [
    "laptops"
   ]
  },
  {
   "cell_type": "markdown",
   "metadata": {},
   "source": [
    "#### Data Cleaning"
   ]
  },
  {
   "cell_type": "code",
   "execution_count": 48,
   "metadata": {},
   "outputs": [
    {
     "data": {
      "text/html": [
       "<div>\n",
       "<style scoped>\n",
       "    .dataframe tbody tr th:only-of-type {\n",
       "        vertical-align: middle;\n",
       "    }\n",
       "\n",
       "    .dataframe tbody tr th {\n",
       "        vertical-align: top;\n",
       "    }\n",
       "\n",
       "    .dataframe thead th {\n",
       "        text-align: right;\n",
       "    }\n",
       "</style>\n",
       "<table border=\"1\" class=\"dataframe\">\n",
       "  <thead>\n",
       "    <tr style=\"text-align: right;\">\n",
       "      <th></th>\n",
       "      <th>Name</th>\n",
       "      <th>Location</th>\n",
       "      <th>Price</th>\n",
       "    </tr>\n",
       "  </thead>\n",
       "  <tbody>\n",
       "    <tr>\n",
       "      <th>0</th>\n",
       "      <td>Dell Core i5 6th Generation Laptop. . Better T...</td>\n",
       "      <td>Cantt, Lahore•2 weeks ago</td>\n",
       "      <td>Rs 38,000</td>\n",
       "    </tr>\n",
       "    <tr>\n",
       "      <th>1</th>\n",
       "      <td>hp ProBook core i5 7th generation</td>\n",
       "      <td>DHA Phase 8, Lahore•45 minutes ago</td>\n",
       "      <td>Rs 58,000</td>\n",
       "    </tr>\n",
       "    <tr>\n",
       "      <th>2</th>\n",
       "      <td>Hp core i5 2.40ghz 4gb ram 250gb HDD camera wifi</td>\n",
       "      <td>Ayub National Park, Rawalpindi•6 days ago</td>\n",
       "      <td>Rs 20,500</td>\n",
       "    </tr>\n",
       "    <tr>\n",
       "      <th>3</th>\n",
       "      <td>HP ELITBOOK 830 G5 CORE i5 8th gen 8GB 256GB S...</td>\n",
       "      <td>Saddar, Karachi•6 days ago</td>\n",
       "      <td>Rs 68,000</td>\n",
       "    </tr>\n",
       "    <tr>\n",
       "      <th>4</th>\n",
       "      <td>hp g4 840 core i5 7th gen 16gb/512ssd 10/10 fr...</td>\n",
       "      <td>Gujranwala, Punjab•1 week ago</td>\n",
       "      <td>Rs 62,500</td>\n",
       "    </tr>\n",
       "    <tr>\n",
       "      <th>...</th>\n",
       "      <td>...</td>\n",
       "      <td>...</td>\n",
       "      <td>...</td>\n",
       "    </tr>\n",
       "    <tr>\n",
       "      <th>475</th>\n",
       "      <td>HP Elitebook Core i5 8th Gen</td>\n",
       "      <td>Ghauri Town Phase 4A, Islamabad•2 days ago</td>\n",
       "      <td>Rs 90,000</td>\n",
       "    </tr>\n",
       "    <tr>\n",
       "      <th>476</th>\n",
       "      <td>Fujitsu Core I5 4th generation battery not wor...</td>\n",
       "      <td>Johar Town Phase 1, Lahore•2 days ago</td>\n",
       "      <td>Rs 13,500</td>\n",
       "    </tr>\n",
       "    <tr>\n",
       "      <th>477</th>\n",
       "      <td>Lenovo X1 Carbon 7th Gen Core i5 Ultra Slim Br...</td>\n",
       "      <td>Allama Iqbal Town, Lahore•2 days ago</td>\n",
       "      <td>Rs 64,500</td>\n",
       "    </tr>\n",
       "    <tr>\n",
       "      <th>478</th>\n",
       "      <td>Core i5 7th Generation</td>\n",
       "      <td>Korangi Road, Karachi•2 days ago</td>\n",
       "      <td>Rs 42,000</td>\n",
       "    </tr>\n",
       "    <tr>\n",
       "      <th>479</th>\n",
       "      <td>HP ELITE BOOK 8470 core i5</td>\n",
       "      <td>Library Chowk, Bahawalpur•2 days ago</td>\n",
       "      <td>Rs 30,000</td>\n",
       "    </tr>\n",
       "  </tbody>\n",
       "</table>\n",
       "<p>480 rows × 3 columns</p>\n",
       "</div>"
      ],
      "text/plain": [
       "                                                  Name  \\\n",
       "0    Dell Core i5 6th Generation Laptop. . Better T...   \n",
       "1                    hp ProBook core i5 7th generation   \n",
       "2     Hp core i5 2.40ghz 4gb ram 250gb HDD camera wifi   \n",
       "3    HP ELITBOOK 830 G5 CORE i5 8th gen 8GB 256GB S...   \n",
       "4    hp g4 840 core i5 7th gen 16gb/512ssd 10/10 fr...   \n",
       "..                                                 ...   \n",
       "475                       HP Elitebook Core i5 8th Gen   \n",
       "476  Fujitsu Core I5 4th generation battery not wor...   \n",
       "477  Lenovo X1 Carbon 7th Gen Core i5 Ultra Slim Br...   \n",
       "478                             Core i5 7th Generation   \n",
       "479                         HP ELITE BOOK 8470 core i5   \n",
       "\n",
       "                                       Location      Price  \n",
       "0                     Cantt, Lahore•2 weeks ago  Rs 38,000  \n",
       "1            DHA Phase 8, Lahore•45 minutes ago  Rs 58,000  \n",
       "2     Ayub National Park, Rawalpindi•6 days ago  Rs 20,500  \n",
       "3                    Saddar, Karachi•6 days ago  Rs 68,000  \n",
       "4                 Gujranwala, Punjab•1 week ago  Rs 62,500  \n",
       "..                                          ...        ...  \n",
       "475  Ghauri Town Phase 4A, Islamabad•2 days ago  Rs 90,000  \n",
       "476       Johar Town Phase 1, Lahore•2 days ago  Rs 13,500  \n",
       "477        Allama Iqbal Town, Lahore•2 days ago  Rs 64,500  \n",
       "478            Korangi Road, Karachi•2 days ago  Rs 42,000  \n",
       "479        Library Chowk, Bahawalpur•2 days ago  Rs 30,000  \n",
       "\n",
       "[480 rows x 3 columns]"
      ]
     },
     "execution_count": 48,
     "metadata": {},
     "output_type": "execute_result"
    }
   ],
   "source": [
    "laptops"
   ]
  },
  {
   "cell_type": "markdown",
   "metadata": {},
   "source": [
    "### Output in Excel"
   ]
  },
  {
   "cell_type": "code",
   "execution_count": 49,
   "metadata": {},
   "outputs": [],
   "source": [
    "laptops.to_excel('olx_laptop.xlsx', index=False)"
   ]
  },
  {
   "cell_type": "markdown",
   "metadata": {},
   "source": [
    "### Part 2 - Pagination "
   ]
  },
  {
   "cell_type": "code",
   "execution_count": 50,
   "metadata": {},
   "outputs": [],
   "source": [
    "name = []\n",
    "price = []\n",
    "area_loc_time = []\n",
    "\n",
    "for i in range (1,25):\n",
    "    \n",
    "    # website in variable\n",
    "    website = 'https://www.olx.com.pk/items/q-laptop-core-i5?page='+str(i) \n",
    "    \n",
    "    # request to website\n",
    "    response = requests.get(website)\n",
    "    \n",
    "    # soup object\n",
    "    soup = BeautifulSoup(response.content, 'html.parser')\n",
    "    \n",
    "    # results\n",
    "    results = soup.find_all('article', {'class' : '_7e3920c1'})\n",
    "    \n",
    "    # loop through results\n",
    "    for result in results:\n",
    "    \n",
    "        try:\n",
    "            area_loc_time.append(result.find('div', {'class':'e48cb10f'}).get_text().strip())\n",
    "        except:\n",
    "            area_loc_time.append('n/a')\n",
    "        \n",
    "    \n",
    "    # dealer_name\n",
    "        try:\n",
    "            name.append(result.find('div', {'class':'a5112ca8 _5fdf4379'}).get_text().strip())\n",
    "        except:\n",
    "            name.append('n/a')\n",
    "        \n",
    "    \n",
    "    #price \n",
    "        try:\n",
    "            price.append(result.find('div', {'class':'_1075545d _52497c97 _96d4439a'}).get_text())\n",
    "        except:\n",
    "            price.append('n/a')"
   ]
  },
  {
   "cell_type": "code",
   "execution_count": 51,
   "metadata": {},
   "outputs": [],
   "source": [
    "# dictionary\n",
    "laptops = pd.DataFrame({'Name': name,'Area_Loc_time':area_loc_time , 'Price': price})"
   ]
  },
  {
   "cell_type": "code",
   "execution_count": 52,
   "metadata": {},
   "outputs": [
    {
     "data": {
      "text/html": [
       "<div>\n",
       "<style scoped>\n",
       "    .dataframe tbody tr th:only-of-type {\n",
       "        vertical-align: middle;\n",
       "    }\n",
       "\n",
       "    .dataframe tbody tr th {\n",
       "        vertical-align: top;\n",
       "    }\n",
       "\n",
       "    .dataframe thead th {\n",
       "        text-align: right;\n",
       "    }\n",
       "</style>\n",
       "<table border=\"1\" class=\"dataframe\">\n",
       "  <thead>\n",
       "    <tr style=\"text-align: right;\">\n",
       "      <th></th>\n",
       "      <th>Name</th>\n",
       "      <th>Area_Loc_time</th>\n",
       "      <th>Price</th>\n",
       "    </tr>\n",
       "  </thead>\n",
       "  <tbody>\n",
       "    <tr>\n",
       "      <th>0</th>\n",
       "      <td>HP ELITBOOK 830 G5 CORE i5 8th gen 8GB 256GB S...</td>\n",
       "      <td>Saddar, Karachi•6 days ago</td>\n",
       "      <td>Rs 68,000</td>\n",
       "    </tr>\n",
       "    <tr>\n",
       "      <th>1</th>\n",
       "      <td>MacBook Pro 2017 13\"Ratina Display,Core i5,8GB...</td>\n",
       "      <td>Valencia Town, Lahore•2 weeks ago</td>\n",
       "      <td>Rs 120,000</td>\n",
       "    </tr>\n",
       "    <tr>\n",
       "      <th>2</th>\n",
       "      <td>Lenovo T470 Core i 7 6th Gen Laptop 8GB-256 Ba...</td>\n",
       "      <td>DHA Phase 5, Karachi•3 weeks ago</td>\n",
       "      <td>Rs 47,999</td>\n",
       "    </tr>\n",
       "    <tr>\n",
       "      <th>3</th>\n",
       "      <td>Dell Core i5 8th generation laptop for sell</td>\n",
       "      <td>Nowshera Bypass Road, Nowshera•3 days ago</td>\n",
       "      <td>Rs 80,000</td>\n",
       "    </tr>\n",
       "    <tr>\n",
       "      <th>4</th>\n",
       "      <td>Apple imac 2019. . 2017. . 2015. . 2013 core i...</td>\n",
       "      <td>Gulberg 1, Lahore•2 weeks ago</td>\n",
       "      <td>Rs 190,000</td>\n",
       "    </tr>\n",
       "    <tr>\n",
       "      <th>...</th>\n",
       "      <td>...</td>\n",
       "      <td>...</td>\n",
       "      <td>...</td>\n",
       "    </tr>\n",
       "    <tr>\n",
       "      <th>475</th>\n",
       "      <td>Dell core i5 6th generation</td>\n",
       "      <td>Ghauri Town, Rawalpindi•2 days ago</td>\n",
       "      <td>Rs 48,000</td>\n",
       "    </tr>\n",
       "    <tr>\n",
       "      <th>476</th>\n",
       "      <td>HP 840G3 Slim laptop Core i5 6th Gen 8 GB 128 ...</td>\n",
       "      <td>Punjab Coop Housing - Block F2, Lahore•2 days ago</td>\n",
       "      <td>Rs 51,500</td>\n",
       "    </tr>\n",
       "    <tr>\n",
       "      <th>477</th>\n",
       "      <td>Dell Latitude E5530 10 by 10 Core i5 3nd Gen 4...</td>\n",
       "      <td>Punjab Coop Housing - Block F2, Lahore•2 days ago</td>\n",
       "      <td>Rs 29,999</td>\n",
       "    </tr>\n",
       "    <tr>\n",
       "      <th>478</th>\n",
       "      <td>HP Elitebook Core i5 8th Gen</td>\n",
       "      <td>Ghauri Town Phase 4A, Islamabad•2 days ago</td>\n",
       "      <td>Rs 90,000</td>\n",
       "    </tr>\n",
       "    <tr>\n",
       "      <th>479</th>\n",
       "      <td>Fujitsu Core I5 4th generation battery not wor...</td>\n",
       "      <td>Johar Town Phase 1, Lahore•2 days ago</td>\n",
       "      <td>Rs 13,500</td>\n",
       "    </tr>\n",
       "  </tbody>\n",
       "</table>\n",
       "<p>480 rows × 3 columns</p>\n",
       "</div>"
      ],
      "text/plain": [
       "                                                  Name  \\\n",
       "0    HP ELITBOOK 830 G5 CORE i5 8th gen 8GB 256GB S...   \n",
       "1    MacBook Pro 2017 13\"Ratina Display,Core i5,8GB...   \n",
       "2    Lenovo T470 Core i 7 6th Gen Laptop 8GB-256 Ba...   \n",
       "3          Dell Core i5 8th generation laptop for sell   \n",
       "4    Apple imac 2019. . 2017. . 2015. . 2013 core i...   \n",
       "..                                                 ...   \n",
       "475                        Dell core i5 6th generation   \n",
       "476  HP 840G3 Slim laptop Core i5 6th Gen 8 GB 128 ...   \n",
       "477  Dell Latitude E5530 10 by 10 Core i5 3nd Gen 4...   \n",
       "478                       HP Elitebook Core i5 8th Gen   \n",
       "479  Fujitsu Core I5 4th generation battery not wor...   \n",
       "\n",
       "                                         Area_Loc_time       Price  \n",
       "0                           Saddar, Karachi•6 days ago   Rs 68,000  \n",
       "1                    Valencia Town, Lahore•2 weeks ago  Rs 120,000  \n",
       "2                     DHA Phase 5, Karachi•3 weeks ago   Rs 47,999  \n",
       "3            Nowshera Bypass Road, Nowshera•3 days ago   Rs 80,000  \n",
       "4                        Gulberg 1, Lahore•2 weeks ago  Rs 190,000  \n",
       "..                                                 ...         ...  \n",
       "475                 Ghauri Town, Rawalpindi•2 days ago   Rs 48,000  \n",
       "476  Punjab Coop Housing - Block F2, Lahore•2 days ago   Rs 51,500  \n",
       "477  Punjab Coop Housing - Block F2, Lahore•2 days ago   Rs 29,999  \n",
       "478         Ghauri Town Phase 4A, Islamabad•2 days ago   Rs 90,000  \n",
       "479              Johar Town Phase 1, Lahore•2 days ago   Rs 13,500  \n",
       "\n",
       "[480 rows x 3 columns]"
      ]
     },
     "execution_count": 52,
     "metadata": {},
     "output_type": "execute_result"
    }
   ],
   "source": [
    "laptops"
   ]
  },
  {
   "cell_type": "code",
   "execution_count": 53,
   "metadata": {},
   "outputs": [
    {
     "data": {
      "text/html": [
       "<div>\n",
       "<style scoped>\n",
       "    .dataframe tbody tr th:only-of-type {\n",
       "        vertical-align: middle;\n",
       "    }\n",
       "\n",
       "    .dataframe tbody tr th {\n",
       "        vertical-align: top;\n",
       "    }\n",
       "\n",
       "    .dataframe thead th {\n",
       "        text-align: right;\n",
       "    }\n",
       "</style>\n",
       "<table border=\"1\" class=\"dataframe\">\n",
       "  <thead>\n",
       "    <tr style=\"text-align: right;\">\n",
       "      <th></th>\n",
       "      <th>Name</th>\n",
       "      <th>Area_Loc_time</th>\n",
       "      <th>Price</th>\n",
       "    </tr>\n",
       "  </thead>\n",
       "  <tbody>\n",
       "    <tr>\n",
       "      <th>0</th>\n",
       "      <td>HP ELITBOOK 830 G5 CORE i5 8th gen 8GB 256GB S...</td>\n",
       "      <td>Saddar, Karachi•6 days ago</td>\n",
       "      <td>Rs 68,000</td>\n",
       "    </tr>\n",
       "    <tr>\n",
       "      <th>1</th>\n",
       "      <td>MacBook Pro 2017 13\"Ratina Display,Core i5,8GB...</td>\n",
       "      <td>Valencia Town, Lahore•2 weeks ago</td>\n",
       "      <td>Rs 120,000</td>\n",
       "    </tr>\n",
       "    <tr>\n",
       "      <th>2</th>\n",
       "      <td>Lenovo T470 Core i 7 6th Gen Laptop 8GB-256 Ba...</td>\n",
       "      <td>DHA Phase 5, Karachi•3 weeks ago</td>\n",
       "      <td>Rs 47,999</td>\n",
       "    </tr>\n",
       "    <tr>\n",
       "      <th>3</th>\n",
       "      <td>Dell Core i5 8th generation laptop for sell</td>\n",
       "      <td>Nowshera Bypass Road, Nowshera•3 days ago</td>\n",
       "      <td>Rs 80,000</td>\n",
       "    </tr>\n",
       "    <tr>\n",
       "      <th>4</th>\n",
       "      <td>Apple imac 2019. . 2017. . 2015. . 2013 core i...</td>\n",
       "      <td>Gulberg 1, Lahore•2 weeks ago</td>\n",
       "      <td>Rs 190,000</td>\n",
       "    </tr>\n",
       "    <tr>\n",
       "      <th>...</th>\n",
       "      <td>...</td>\n",
       "      <td>...</td>\n",
       "      <td>...</td>\n",
       "    </tr>\n",
       "    <tr>\n",
       "      <th>475</th>\n",
       "      <td>Dell core i5 6th generation</td>\n",
       "      <td>Ghauri Town, Rawalpindi•2 days ago</td>\n",
       "      <td>Rs 48,000</td>\n",
       "    </tr>\n",
       "    <tr>\n",
       "      <th>476</th>\n",
       "      <td>HP 840G3 Slim laptop Core i5 6th Gen 8 GB 128 ...</td>\n",
       "      <td>Punjab Coop Housing - Block F2, Lahore•2 days ago</td>\n",
       "      <td>Rs 51,500</td>\n",
       "    </tr>\n",
       "    <tr>\n",
       "      <th>477</th>\n",
       "      <td>Dell Latitude E5530 10 by 10 Core i5 3nd Gen 4...</td>\n",
       "      <td>Punjab Coop Housing - Block F2, Lahore•2 days ago</td>\n",
       "      <td>Rs 29,999</td>\n",
       "    </tr>\n",
       "    <tr>\n",
       "      <th>478</th>\n",
       "      <td>HP Elitebook Core i5 8th Gen</td>\n",
       "      <td>Ghauri Town Phase 4A, Islamabad•2 days ago</td>\n",
       "      <td>Rs 90,000</td>\n",
       "    </tr>\n",
       "    <tr>\n",
       "      <th>479</th>\n",
       "      <td>Fujitsu Core I5 4th generation battery not wor...</td>\n",
       "      <td>Johar Town Phase 1, Lahore•2 days ago</td>\n",
       "      <td>Rs 13,500</td>\n",
       "    </tr>\n",
       "  </tbody>\n",
       "</table>\n",
       "<p>480 rows × 3 columns</p>\n",
       "</div>"
      ],
      "text/plain": [
       "                                                  Name  \\\n",
       "0    HP ELITBOOK 830 G5 CORE i5 8th gen 8GB 256GB S...   \n",
       "1    MacBook Pro 2017 13\"Ratina Display,Core i5,8GB...   \n",
       "2    Lenovo T470 Core i 7 6th Gen Laptop 8GB-256 Ba...   \n",
       "3          Dell Core i5 8th generation laptop for sell   \n",
       "4    Apple imac 2019. . 2017. . 2015. . 2013 core i...   \n",
       "..                                                 ...   \n",
       "475                        Dell core i5 6th generation   \n",
       "476  HP 840G3 Slim laptop Core i5 6th Gen 8 GB 128 ...   \n",
       "477  Dell Latitude E5530 10 by 10 Core i5 3nd Gen 4...   \n",
       "478                       HP Elitebook Core i5 8th Gen   \n",
       "479  Fujitsu Core I5 4th generation battery not wor...   \n",
       "\n",
       "                                         Area_Loc_time       Price  \n",
       "0                           Saddar, Karachi•6 days ago   Rs 68,000  \n",
       "1                    Valencia Town, Lahore•2 weeks ago  Rs 120,000  \n",
       "2                     DHA Phase 5, Karachi•3 weeks ago   Rs 47,999  \n",
       "3            Nowshera Bypass Road, Nowshera•3 days ago   Rs 80,000  \n",
       "4                        Gulberg 1, Lahore•2 weeks ago  Rs 190,000  \n",
       "..                                                 ...         ...  \n",
       "475                 Ghauri Town, Rawalpindi•2 days ago   Rs 48,000  \n",
       "476  Punjab Coop Housing - Block F2, Lahore•2 days ago   Rs 51,500  \n",
       "477  Punjab Coop Housing - Block F2, Lahore•2 days ago   Rs 29,999  \n",
       "478         Ghauri Town Phase 4A, Islamabad•2 days ago   Rs 90,000  \n",
       "479              Johar Town Phase 1, Lahore•2 days ago   Rs 13,500  \n",
       "\n",
       "[480 rows x 3 columns]"
      ]
     },
     "execution_count": 53,
     "metadata": {},
     "output_type": "execute_result"
    }
   ],
   "source": [
    "laptops"
   ]
  },
  {
   "cell_type": "code",
   "execution_count": 54,
   "metadata": {},
   "outputs": [
    {
     "data": {
      "text/html": [
       "<div>\n",
       "<style scoped>\n",
       "    .dataframe tbody tr th:only-of-type {\n",
       "        vertical-align: middle;\n",
       "    }\n",
       "\n",
       "    .dataframe tbody tr th {\n",
       "        vertical-align: top;\n",
       "    }\n",
       "\n",
       "    .dataframe thead th {\n",
       "        text-align: right;\n",
       "    }\n",
       "</style>\n",
       "<table border=\"1\" class=\"dataframe\">\n",
       "  <thead>\n",
       "    <tr style=\"text-align: right;\">\n",
       "      <th></th>\n",
       "      <th>Name</th>\n",
       "      <th>Area_Loc_time</th>\n",
       "      <th>Price</th>\n",
       "      <th>Area</th>\n",
       "      <th>City</th>\n",
       "      <th>time</th>\n",
       "    </tr>\n",
       "  </thead>\n",
       "  <tbody>\n",
       "    <tr>\n",
       "      <th>0</th>\n",
       "      <td>HP ELITBOOK 830 G5 CORE i5 8th gen 8GB 256GB S...</td>\n",
       "      <td>Saddar, Karachi•6 days ago</td>\n",
       "      <td>Rs 68,000</td>\n",
       "      <td>Saddar</td>\n",
       "      <td>Karachi</td>\n",
       "      <td>6 days ago</td>\n",
       "    </tr>\n",
       "    <tr>\n",
       "      <th>1</th>\n",
       "      <td>MacBook Pro 2017 13\"Ratina Display,Core i5,8GB...</td>\n",
       "      <td>Valencia Town, Lahore•2 weeks ago</td>\n",
       "      <td>Rs 120,000</td>\n",
       "      <td>Valencia Town</td>\n",
       "      <td>Lahore</td>\n",
       "      <td>2 weeks ago</td>\n",
       "    </tr>\n",
       "    <tr>\n",
       "      <th>2</th>\n",
       "      <td>Lenovo T470 Core i 7 6th Gen Laptop 8GB-256 Ba...</td>\n",
       "      <td>DHA Phase 5, Karachi•3 weeks ago</td>\n",
       "      <td>Rs 47,999</td>\n",
       "      <td>DHA Phase 5</td>\n",
       "      <td>Karachi</td>\n",
       "      <td>3 weeks ago</td>\n",
       "    </tr>\n",
       "    <tr>\n",
       "      <th>3</th>\n",
       "      <td>Dell Core i5 8th generation laptop for sell</td>\n",
       "      <td>Nowshera Bypass Road, Nowshera•3 days ago</td>\n",
       "      <td>Rs 80,000</td>\n",
       "      <td>Nowshera Bypass Road</td>\n",
       "      <td>Nowshera</td>\n",
       "      <td>3 days ago</td>\n",
       "    </tr>\n",
       "    <tr>\n",
       "      <th>4</th>\n",
       "      <td>Apple imac 2019. . 2017. . 2015. . 2013 core i...</td>\n",
       "      <td>Gulberg 1, Lahore•2 weeks ago</td>\n",
       "      <td>Rs 190,000</td>\n",
       "      <td>Gulberg 1</td>\n",
       "      <td>Lahore</td>\n",
       "      <td>2 weeks ago</td>\n",
       "    </tr>\n",
       "    <tr>\n",
       "      <th>...</th>\n",
       "      <td>...</td>\n",
       "      <td>...</td>\n",
       "      <td>...</td>\n",
       "      <td>...</td>\n",
       "      <td>...</td>\n",
       "      <td>...</td>\n",
       "    </tr>\n",
       "    <tr>\n",
       "      <th>475</th>\n",
       "      <td>Dell core i5 6th generation</td>\n",
       "      <td>Ghauri Town, Rawalpindi•2 days ago</td>\n",
       "      <td>Rs 48,000</td>\n",
       "      <td>Ghauri Town</td>\n",
       "      <td>Rawalpindi</td>\n",
       "      <td>2 days ago</td>\n",
       "    </tr>\n",
       "    <tr>\n",
       "      <th>476</th>\n",
       "      <td>HP 840G3 Slim laptop Core i5 6th Gen 8 GB 128 ...</td>\n",
       "      <td>Punjab Coop Housing - Block F2, Lahore•2 days ago</td>\n",
       "      <td>Rs 51,500</td>\n",
       "      <td>Punjab Coop Housing - Block F2</td>\n",
       "      <td>Lahore</td>\n",
       "      <td>2 days ago</td>\n",
       "    </tr>\n",
       "    <tr>\n",
       "      <th>477</th>\n",
       "      <td>Dell Latitude E5530 10 by 10 Core i5 3nd Gen 4...</td>\n",
       "      <td>Punjab Coop Housing - Block F2, Lahore•2 days ago</td>\n",
       "      <td>Rs 29,999</td>\n",
       "      <td>Punjab Coop Housing - Block F2</td>\n",
       "      <td>Lahore</td>\n",
       "      <td>2 days ago</td>\n",
       "    </tr>\n",
       "    <tr>\n",
       "      <th>478</th>\n",
       "      <td>HP Elitebook Core i5 8th Gen</td>\n",
       "      <td>Ghauri Town Phase 4A, Islamabad•2 days ago</td>\n",
       "      <td>Rs 90,000</td>\n",
       "      <td>Ghauri Town Phase 4A</td>\n",
       "      <td>Islamabad</td>\n",
       "      <td>2 days ago</td>\n",
       "    </tr>\n",
       "    <tr>\n",
       "      <th>479</th>\n",
       "      <td>Fujitsu Core I5 4th generation battery not wor...</td>\n",
       "      <td>Johar Town Phase 1, Lahore•2 days ago</td>\n",
       "      <td>Rs 13,500</td>\n",
       "      <td>Johar Town Phase 1</td>\n",
       "      <td>Lahore</td>\n",
       "      <td>2 days ago</td>\n",
       "    </tr>\n",
       "  </tbody>\n",
       "</table>\n",
       "<p>480 rows × 6 columns</p>\n",
       "</div>"
      ],
      "text/plain": [
       "                                                  Name  \\\n",
       "0    HP ELITBOOK 830 G5 CORE i5 8th gen 8GB 256GB S...   \n",
       "1    MacBook Pro 2017 13\"Ratina Display,Core i5,8GB...   \n",
       "2    Lenovo T470 Core i 7 6th Gen Laptop 8GB-256 Ba...   \n",
       "3          Dell Core i5 8th generation laptop for sell   \n",
       "4    Apple imac 2019. . 2017. . 2015. . 2013 core i...   \n",
       "..                                                 ...   \n",
       "475                        Dell core i5 6th generation   \n",
       "476  HP 840G3 Slim laptop Core i5 6th Gen 8 GB 128 ...   \n",
       "477  Dell Latitude E5530 10 by 10 Core i5 3nd Gen 4...   \n",
       "478                       HP Elitebook Core i5 8th Gen   \n",
       "479  Fujitsu Core I5 4th generation battery not wor...   \n",
       "\n",
       "                                         Area_Loc_time       Price  \\\n",
       "0                           Saddar, Karachi•6 days ago   Rs 68,000   \n",
       "1                    Valencia Town, Lahore•2 weeks ago  Rs 120,000   \n",
       "2                     DHA Phase 5, Karachi•3 weeks ago   Rs 47,999   \n",
       "3            Nowshera Bypass Road, Nowshera•3 days ago   Rs 80,000   \n",
       "4                        Gulberg 1, Lahore•2 weeks ago  Rs 190,000   \n",
       "..                                                 ...         ...   \n",
       "475                 Ghauri Town, Rawalpindi•2 days ago   Rs 48,000   \n",
       "476  Punjab Coop Housing - Block F2, Lahore•2 days ago   Rs 51,500   \n",
       "477  Punjab Coop Housing - Block F2, Lahore•2 days ago   Rs 29,999   \n",
       "478         Ghauri Town Phase 4A, Islamabad•2 days ago   Rs 90,000   \n",
       "479              Johar Town Phase 1, Lahore•2 days ago   Rs 13,500   \n",
       "\n",
       "                               Area         City         time  \n",
       "0                            Saddar      Karachi   6 days ago  \n",
       "1                     Valencia Town       Lahore  2 weeks ago  \n",
       "2                       DHA Phase 5      Karachi  3 weeks ago  \n",
       "3              Nowshera Bypass Road     Nowshera   3 days ago  \n",
       "4                         Gulberg 1       Lahore  2 weeks ago  \n",
       "..                              ...          ...          ...  \n",
       "475                     Ghauri Town   Rawalpindi   2 days ago  \n",
       "476  Punjab Coop Housing - Block F2       Lahore   2 days ago  \n",
       "477  Punjab Coop Housing - Block F2       Lahore   2 days ago  \n",
       "478            Ghauri Town Phase 4A    Islamabad   2 days ago  \n",
       "479              Johar Town Phase 1       Lahore   2 days ago  \n",
       "\n",
       "[480 rows x 6 columns]"
      ]
     },
     "execution_count": 54,
     "metadata": {},
     "output_type": "execute_result"
    }
   ],
   "source": [
    "# Split the 'Name_Age' column into 'Name' and 'Age' columns\n",
    "laptops[['Area', 'City']] = laptops['Area_Loc_time'].str.split(',', 1, expand=True)\n",
    "laptops[['City', 'time']] = laptops['City'].str.split('•', 1, expand=True)\n",
    "laptops"
   ]
  },
  {
   "cell_type": "code",
   "execution_count": 55,
   "metadata": {},
   "outputs": [],
   "source": [
    "laptops.to_csv('laptops.csv', index=False)"
   ]
  }
 ],
 "metadata": {
  "kernelspec": {
   "display_name": "Python 3 (ipykernel)",
   "language": "python",
   "name": "python3"
  },
  "language_info": {
   "codemirror_mode": {
    "name": "ipython",
    "version": 3
   },
   "file_extension": ".py",
   "mimetype": "text/x-python",
   "name": "python",
   "nbconvert_exporter": "python",
   "pygments_lexer": "ipython3",
   "version": "3.9.12"
  }
 },
 "nbformat": 4,
 "nbformat_minor": 4
}
